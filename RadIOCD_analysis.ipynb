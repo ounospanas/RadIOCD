{
 "cells": [
  {
   "cell_type": "markdown",
   "metadata": {},
   "source": [
    "# RadIOCD"
   ]
  },
  {
   "cell_type": "code",
   "execution_count": 1,
   "metadata": {
    "ExecuteTime": {
     "end_time": "2024-03-01T09:03:02.504733Z",
     "start_time": "2024-03-01T09:03:02.499479Z"
    }
   },
   "outputs": [],
   "source": [
    "# Download RadIOCD\n",
    "# !wget https://zenodo.org/records/10731407/files/RadIOCD.zip\n",
    "# !wget https://zenodo.org/records/10731407/files/df_4_annotation.csv\n",
    "# !unzip RadIOCD.zip"
   ]
  },
  {
   "cell_type": "code",
   "execution_count": 14,
   "metadata": {
    "ExecuteTime": {
     "end_time": "2024-03-01T09:06:28.071752Z",
     "start_time": "2024-03-01T09:06:23.797366Z"
    }
   },
   "outputs": [],
   "source": [
    "from tqdm import tqdm\n",
    "import pandas as pd\n",
    "import numpy as np\n",
    "import os\n",
    "\n",
    "import matplotlib.pyplot as plt\n",
    "from sklearn.cluster import DBSCAN"
   ]
  },
  {
   "cell_type": "code",
   "execution_count": 15,
   "metadata": {
    "ExecuteTime": {
     "end_time": "2024-03-01T09:06:28.780938Z",
     "start_time": "2024-03-01T09:06:28.774967Z"
    }
   },
   "outputs": [],
   "source": [
    "path = 'dataset/'\n",
    "subjects = ['subject_1/', 'subject_2/', 'subject_3/', 'subject_4/', 'subject_5/', \n",
    "            'subject_6/', 'subject_7/', 'subject_8/', 'subject_9/', 'subject_10/'] \n",
    "\n",
    "classes = {'wall':4,'human':3,'desk':2,'chair':1,'backpack':0}"
   ]
  },
  {
   "cell_type": "code",
   "execution_count": 16,
   "metadata": {
    "ExecuteTime": {
     "end_time": "2024-03-01T09:06:29.611097Z",
     "start_time": "2024-03-01T09:06:29.423591Z"
    }
   },
   "outputs": [],
   "source": [
    "# read df_4_annotation.csv to simplify io and feature extraction\n",
    "df_4_annotation = pd.read_csv('df_4_annotation.csv')\n",
    "dfs_csvs = df_4_annotation['CSV'].unique()"
   ]
  },
  {
   "cell_type": "code",
   "execution_count": 17,
   "metadata": {
    "ExecuteTime": {
     "end_time": "2024-03-01T09:06:29.796759Z",
     "start_time": "2024-03-01T09:06:29.792656Z"
    }
   },
   "outputs": [],
   "source": [
    "threshold_frames = 8 #how many frames in a csv file should contain the object of interest\n",
    "threshold_gap = 2 #how many frames in a specified window should not contain the object of interest\n",
    "window = 10 #how many frames contitute a window\n",
    "eps = 0.5 #the maximum distance between two samples "
   ]
  },
  {
   "cell_type": "code",
   "execution_count": 18,
   "metadata": {
    "ExecuteTime": {
     "end_time": "2024-03-01T09:06:30.697020Z",
     "start_time": "2024-03-01T09:06:30.690142Z"
    }
   },
   "outputs": [],
   "source": [
    "# init features daraframe\n",
    "features = pd.DataFrame({'object':[],'subject':[],'min_X':[],'max_X':[],'mean_X':[],'std_X':[],'env':[],\n",
    "                                        'min_Y':[],'max_Y':[],'mean_Y':[],'std_Y':[],\n",
    "                                        'min_Z':[],'max_Z':[],'mean_Z':[],'std_Z':[],'csv':[]})"
   ]
  },
  {
   "cell_type": "code",
   "execution_count": 37,
   "metadata": {
    "ExecuteTime": {
     "end_time": "2024-03-01T09:14:12.285953Z",
     "start_time": "2024-03-01T09:14:12.274072Z"
    }
   },
   "outputs": [],
   "source": [
    "def get_closest_cluster(filtered_points_df, eps, threshold_frames):\n",
    "    estimate_feature = False\n",
    "    clustering = DBSCAN(eps=eps, min_samples=threshold_frames).fit(filtered_points_df)\n",
    "    uniq = np.unique(clustering.labels_)\n",
    "    distances = []\n",
    "    indices = []\n",
    "    for un in uniq:\n",
    "        points = filtered_points_df.iloc[np.where(clustering.labels_==un)[0]]\n",
    "        if len(points)>0:\n",
    "            mean_x = points['X'].mean()\n",
    "            mean_y = points['Y'].mean()\n",
    "            mean_z = points['Z'].mean()\n",
    "\n",
    "            d = np.sqrt(mean_x**2+mean_y**2+mean_z**2)\n",
    "            # objects over 0.3m at the left or right are considerd to be far away.\n",
    "            if np.abs(mean_x)<0.3 and (un!=-1):\n",
    "\n",
    "                if d<=0.0:\n",
    "                    continue\n",
    "                else:\n",
    "                    distances.append(d)\n",
    "                    indices.append(un)\n",
    "    if len(distances)>0:\n",
    "        # the object in the closest distance should be the object of interest\n",
    "        index_ = np.argmin(distances)\n",
    "        un_index = indices[index_]\n",
    "        estimate_feature = True\n",
    "\n",
    "        points_df = filtered_points_df.iloc[np.where(clustering.labels_==un_index)[0]]\n",
    "        return points_df, estimate_feature\n",
    "    else:\n",
    "        return None, estimate_feature"
   ]
  },
  {
   "cell_type": "code",
   "execution_count": 38,
   "metadata": {
    "ExecuteTime": {
     "end_time": "2024-03-01T09:21:25.350106Z",
     "start_time": "2024-03-01T09:14:18.481650Z"
    }
   },
   "outputs": [
    {
     "name": "stderr",
     "output_type": "stream",
     "text": [
      "100%|██████████| 5776/5776 [07:06<00:00, 13.53it/s]\n"
     ]
    }
   ],
   "source": [
    "# iterate over the csv files \n",
    "for i in tqdm(dfs_csvs):\n",
    "    cdf = pd.read_csv(i)\n",
    "    splits = i.split('/')\n",
    "    current_subject = splits[1]\n",
    "    current_env = splits[2]\n",
    "    current_object = splits[3]\n",
    "    current_csv = i\n",
    "    \n",
    "    #check if there is an object detected in the current csv file\n",
    "    if 'Presence' in cdf.columns:\n",
    "        #check how many frames contain an object \n",
    "        un_frames = cdf['Frame #'][cdf['Presence']==1].unique()\n",
    "\n",
    "        if len(un_frames)<threshold_frames:\n",
    "            continue\n",
    "        else:\n",
    "            for gr in un_frames:\n",
    "                array = np.arange(gr,gr+window)\n",
    "                set1 = set(array) \n",
    "                set2 = set(un_frames) \n",
    "                \n",
    "                #if the are more \"empty\" frames than the defined threshold continue\n",
    "                if len(set1.union(set2))-len(set2)>threshold_gap:\n",
    "                    continue\n",
    "                elif (array[-1] not in cdf['Frame #'].values):\n",
    "                    continue\n",
    "                else:\n",
    "                    current_cdf = cdf[(cdf['Frame #']>=array[0]) & (cdf['Frame #']<=array[-1])]\n",
    "                    if len(current_cdf['Frame #'].unique())<(window-1):\n",
    "                        print('Error less than expected frames')\n",
    "                    points_df = current_cdf[current_cdf['Presence']==1]\n",
    "                    filtered_points_df = points_df[['X','Y','Z']][(points_df['Doppler'].abs()>0)]\n",
    "                    \n",
    "                    #apply DBSCAN over all the sparse point clouds contained in the window\n",
    "                    points_df, estimate_feature = get_closest_cluster(filtered_points_df, eps, threshold_frames)                    \n",
    "                    \n",
    "                    if estimate_feature:   \n",
    "                    #Get values only if the object is closer than 2.5 meters\n",
    "                        if np.mean(points_df['Y'])<2.5 and np.mean(points_df['Y'])>1. and np.abs(np.mean(points_df['Z'])<1):\n",
    "                            current_features = pd.DataFrame({'object':[current_object],'subject':[current_subject],'env':[current_env],\n",
    "                                                             'min_X':[np.min(points_df['X'])],'max_X':[np.max(points_df['X'])],\n",
    "                                                             'mean_X':[np.mean(points_df['X'])],'std_X':[np.std(points_df['X'])],\n",
    "                                                             'min_Y':[np.min(points_df['Y'])],'max_Y':[np.max(points_df['Y'])],\n",
    "                                                             'mean_Y':[np.mean(points_df['Y'])],'std_Y':[np.std(points_df['Y'])],\n",
    "                                                             'min_Z':[np.min(points_df['Z'])],'max_Z':[np.max(points_df['Z'])],\n",
    "                                                             'mean_Z':[np.mean(points_df['Z'])],'std_Z':[np.std(points_df['Z'])],\n",
    "                                                            'n_points':[len(points_df)],'csv':[current_csv]})\n",
    "                            features = pd.concat([features,current_features],ignore_index=True)"
   ]
  },
  {
   "cell_type": "code",
   "execution_count": 40,
   "metadata": {
    "ExecuteTime": {
     "end_time": "2024-03-01T09:21:26.042283Z",
     "start_time": "2024-03-01T09:21:25.355170Z"
    }
   },
   "outputs": [],
   "source": [
    "# store features to csv file\n",
    "features.to_csv('features.csv',index=False)"
   ]
  },
  {
   "cell_type": "code",
   "execution_count": 41,
   "metadata": {
    "ExecuteTime": {
     "end_time": "2024-03-01T09:21:26.125565Z",
     "start_time": "2024-03-01T09:21:26.045970Z"
    }
   },
   "outputs": [],
   "source": [
    "features = pd.read_csv('features.csv')"
   ]
  },
  {
   "cell_type": "code",
   "execution_count": 42,
   "metadata": {
    "ExecuteTime": {
     "end_time": "2024-03-01T09:21:26.640487Z",
     "start_time": "2024-03-01T09:21:26.126535Z"
    }
   },
   "outputs": [],
   "source": [
    "features = features.replace(classes)"
   ]
  },
  {
   "cell_type": "code",
   "execution_count": 43,
   "metadata": {
    "ExecuteTime": {
     "end_time": "2024-03-01T09:21:27.206998Z",
     "start_time": "2024-03-01T09:21:26.641615Z"
    }
   },
   "outputs": [],
   "source": [
    "features = features.replace({'subject_1': 1,'subject_2': 2,'subject_3': 3,\n",
    "                            'subject_4': 4,'subject_5': 5,'subject_6': 6,\n",
    "                            'subject_7': 7,'subject_8': 8,'subject_9': 9,'subject_10': 10, })"
   ]
  },
  {
   "cell_type": "code",
   "execution_count": 44,
   "metadata": {
    "ExecuteTime": {
     "end_time": "2024-03-01T09:21:27.240639Z",
     "start_time": "2024-03-01T09:21:27.208019Z"
    }
   },
   "outputs": [],
   "source": [
    "#define set of features\n",
    "feats = ['min_X', 'max_X', 'mean_X', 'std_X','min_Y', 'max_Y', 'mean_Y', 'std_Y', 'min_Z', \n",
    "         'max_Z', 'mean_Z','std_Z','n_points']"
   ]
  },
  {
   "cell_type": "markdown",
   "metadata": {},
   "source": [
    "# ML subject-dependent "
   ]
  },
  {
   "cell_type": "code",
   "execution_count": 45,
   "metadata": {
    "ExecuteTime": {
     "end_time": "2024-03-01T09:21:27.680623Z",
     "start_time": "2024-03-01T09:21:27.243057Z"
    }
   },
   "outputs": [],
   "source": [
    "from sklearn.model_selection import train_test_split\n",
    "from sklearn.model_selection import KFold\n",
    "from sklearn.metrics import f1_score, confusion_matrix\n",
    "from sklearn.neighbors import KNeighborsClassifier\n",
    "from sklearn.tree import DecisionTreeClassifier\n",
    "from sklearn.ensemble import RandomForestClassifier\n",
    "from sklearn.linear_model import LogisticRegression"
   ]
  },
  {
   "cell_type": "code",
   "execution_count": 46,
   "metadata": {
    "ExecuteTime": {
     "end_time": "2024-03-01T09:21:27.685923Z",
     "start_time": "2024-03-01T09:21:27.682646Z"
    }
   },
   "outputs": [],
   "source": [
    "kf = KFold(n_splits=10, random_state=12, shuffle=True)"
   ]
  },
  {
   "cell_type": "code",
   "execution_count": 47,
   "metadata": {
    "ExecuteTime": {
     "end_time": "2024-03-01T09:21:28.639302Z",
     "start_time": "2024-03-01T09:21:28.632312Z"
    }
   },
   "outputs": [],
   "source": [
    "def z_score(X_train, X_test):\n",
    "    x_means = np.zeros(len(feats))\n",
    "    x_stds = np.zeros(len(feats))\n",
    "    for i in range(len(feats)):\n",
    "        x_means[i] = np.mean(X_train[:,i])\n",
    "        x_stds[i] = np.std(X_train[:,i])\n",
    "\n",
    "        X_train[:,i] = (X_train[:,i]-x_means[i])/x_stds[i]\n",
    "        X_test[:,i] = (X_test[:,i]-x_means[i])/x_stds[i]\n",
    "    return X_train, X_test"
   ]
  },
  {
   "cell_type": "code",
   "execution_count": 48,
   "metadata": {
    "ExecuteTime": {
     "end_time": "2024-03-01T09:22:01.652325Z",
     "start_time": "2024-03-01T09:21:31.085807Z"
    }
   },
   "outputs": [
    {
     "name": "stdout",
     "output_type": "stream",
     "text": [
      "Train: 0.9950347264530279\n",
      "Test: 0.7357180993059264\n",
      "0.6931225299990276\n",
      "Train: 0.994470509383378\n",
      "Test: 0.7618666666666667\n",
      "0.7153418188496448\n",
      "Train: 0.9941013185287995\n",
      "Test: 0.7473039930049549\n",
      "0.7009354646742159\n",
      "Train: 0.9954167425484125\n",
      "Test: 0.7464167585446527\n",
      "0.7071318506166148\n",
      "Train: 0.9947053617748481\n",
      "Test: 0.7570302233902759\n",
      "0.6967016263568875\n",
      "Train: 0.9943128535559791\n",
      "Test: 0.7264714245095252\n",
      "0.683066250187229\n",
      "Train: 0.9951353734360986\n",
      "Test: 0.7517306909189629\n",
      "0.6964254013644612\n",
      "Train: 0.9957626472784916\n",
      "Test: 0.7850417716483225\n",
      "0.7284443126122158\n",
      "Train: 0.9952677081753375\n",
      "Test: 0.7625380991964533\n",
      "0.7118376546483333\n",
      "Train: 0.9949453551912568\n",
      "Test: 0.7362410566868465\n",
      "0.6875233234901403\n",
      "\n",
      "0.7510358783872586\n",
      "0.702053023279877\n"
     ]
    }
   ],
   "source": [
    "test_acc = []\n",
    "conf_mats = []\n",
    "f1s = []\n",
    "\n",
    "for i, (train_index, test_index) in enumerate(kf.split(features['csv'].unique())):\n",
    "    csv_train = features['csv'].unique()[train_index]\n",
    "    csv_test = features['csv'].unique()[test_index]\n",
    "\n",
    "    X_train = features[feats][(features['csv'].isin(csv_train))].to_numpy()\n",
    "    y_train = features['object'][(features['csv'].isin(csv_train))].to_numpy()\n",
    "\n",
    "    X_test = features[feats][(features['csv'].isin(csv_test))].to_numpy()\n",
    "    y_test = features['object'][(features['csv'].isin(csv_test))].to_numpy()\n",
    "    \n",
    "    X_train, X_test = z_score(X_train, X_test)\n",
    "      \n",
    "    # change this accordingly\n",
    "    rf = RandomForestClassifier(n_estimators=30, max_depth=20)\n",
    "    rf.fit(X_train,y_train)\n",
    "    \n",
    "    test_acc.append(np.mean(rf.predict(X_test)==y_test))\n",
    "    preds = rf.predict(X_test)\n",
    "    \n",
    "    print('Train:',np.mean(rf.predict(X_train)==y_train))\n",
    "    print('Test:',np.mean(rf.predict(X_test)==y_test))\n",
    "    print(f1_score(y_test, preds, average='macro'))\n",
    "\n",
    "    conf_mats.append(confusion_matrix(y_test,preds, labels=[0,1,2,3,4]))\n",
    "    f1s.append(f1_score(y_test, preds, average='macro'))\n",
    "print()\n",
    "print(np.mean(test_acc))\n",
    "print(np.mean(f1s))"
   ]
  },
  {
   "cell_type": "code",
   "execution_count": 49,
   "metadata": {
    "ExecuteTime": {
     "end_time": "2024-03-01T09:22:25.059936Z",
     "start_time": "2024-03-01T09:22:23.165884Z"
    }
   },
   "outputs": [
    {
     "data": {
      "text/plain": [
       "Text(33.0, 0.5, 'Predicted class')"
      ]
     },
     "execution_count": 49,
     "metadata": {},
     "output_type": "execute_result"
    },
    {
     "data": {
      "image/png": "[encoded data removed]",
      "text/plain": [
       "<Figure size 432x360 with 2 Axes>"
      ]
     },
     "metadata": {
      "needs_background": "light"
     },
     "output_type": "display_data"
    }
   ],
   "source": [
    "import seaborn as sn\n",
    "import pandas as pd\n",
    "import matplotlib as mpl\n",
    "import matplotlib.pyplot as plt\n",
    "mpl.rcParams['figure.dpi'] = 1000\n",
    "%matplotlib inline\n",
    "classe = [\"Backpack\", \"Chair\", \"Desk\", \"Human\", \"Wall\"]\n",
    "\n",
    "mean_cf = np.mean([i for i in conf_mats],0)\n",
    "mean_cf\n",
    "\n",
    "df_cm = pd.DataFrame(mean_cf.astype(int), index = [i for i in classe],columns = [i for i in classe])\n",
    "plt.figure(figsize = (6,5))\n",
    "\n",
    "\n",
    "ax = sn.heatmap(df_cm, annot=True,fmt='g',cmap='Blues')\n",
    "\n",
    "ax.set_xlabel(xlabel='Actual class', fontsize=14, fontdict=dict(weight='bold'))\n",
    "ax.set_ylabel(ylabel='Predicted class', fontsize=14, fontdict=dict(weight='bold'))"
   ]
  },
  {
   "cell_type": "markdown",
   "metadata": {},
   "source": [
    "# ML Subject Independent"
   ]
  },
  {
   "cell_type": "code",
   "execution_count": 50,
   "metadata": {
    "ExecuteTime": {
     "end_time": "2024-03-01T09:23:07.133549Z",
     "start_time": "2024-03-01T09:22:38.570185Z"
    }
   },
   "outputs": [
    {
     "name": "stdout",
     "output_type": "stream",
     "text": [
      "Train: 0.9932447608023358\n",
      "Test: 0.7660313093600576\n",
      "0.7323322241728515\n",
      "Train: 0.9959470086504144\n",
      "Test: 0.6476366742596811\n",
      "0.5660779925717823\n",
      "Train: 0.9950629738322329\n",
      "Test: 0.712325220093216\n",
      "0.652073956810846\n",
      "Train: 0.9950477128252654\n",
      "Test: 0.5052580092932257\n",
      "0.4372081029988809\n",
      "Train: 0.9950529409158705\n",
      "Test: 0.6335849751426993\n",
      "0.556146092556784\n",
      "Train: 0.9941503971494321\n",
      "Test: 0.6323148627654065\n",
      "0.5539000328887225\n",
      "Train: 0.9942870535845076\n",
      "Test: 0.6927488734125359\n",
      "0.6065273843339336\n",
      "Train: 0.9951633128321491\n",
      "Test: 0.6753246753246753\n",
      "0.6546106937591498\n",
      "Train: 0.9953240840434368\n",
      "Test: 0.6569953282517826\n",
      "0.6072178018066531\n",
      "Train: 0.9955351606101948\n",
      "Test: 0.8498380379453957\n",
      "0.8225832723949029\n",
      "\n",
      "0.6772057965848675\n",
      "0.6188677554294507\n"
     ]
    }
   ],
   "source": [
    "test_acc = []\n",
    "conf_mats = []\n",
    "f1s = []\n",
    "for s in range(1,11):\n",
    "    X_train = features[feats][(features['subject']!=s)].to_numpy()\n",
    "    y_train = features['object'][(features['subject']!=s)].to_numpy()\n",
    "\n",
    "    X_test = features[feats][(features['subject']==s)].to_numpy()\n",
    "    y_test = features['object'][(features['subject']==s )].to_numpy()\n",
    "    \n",
    "    X_train, X_test = z_score(X_train, X_test)\n",
    "        \n",
    "    rf = RandomForestClassifier(n_estimators=30, max_depth=20)\n",
    "    rf.fit(X_train,y_train)\n",
    "    \n",
    "    test_acc.append(np.mean(rf.predict(X_test)==y_test))\n",
    "    preds = rf.predict(X_test)\n",
    "    \n",
    "    print('Train:',np.mean(rf.predict(X_train)==y_train))\n",
    "    print('Test:',np.mean(rf.predict(X_test)==y_test))\n",
    "    print(f1_score(y_test, preds, average='macro'))\n",
    "\n",
    "    conf_mats.append(confusion_matrix(y_test,preds, labels=[0,1,2,3,4]))\n",
    "    f1s.append(f1_score(y_test, preds, average='macro'))\n",
    "print()\n",
    "print(np.mean(test_acc))\n",
    "print(np.mean(f1s))"
   ]
  },
  {
   "cell_type": "code",
   "execution_count": 51,
   "metadata": {
    "ExecuteTime": {
     "end_time": "2024-03-01T09:23:15.576584Z",
     "start_time": "2024-03-01T09:23:15.490942Z"
    }
   },
   "outputs": [
    {
     "data": {
      "text/plain": [
       "Text(33.0, 0.5, 'Predicted class')"
      ]
     },
     "execution_count": 51,
     "metadata": {},
     "output_type": "execute_result"
    },
    {
     "data": {
      "image/png": "[encoded data removed]",
      "text/plain": [
       "<Figure size 432x360 with 2 Axes>"
      ]
     },
     "metadata": {
      "needs_background": "light"
     },
     "output_type": "display_data"
    }
   ],
   "source": [
    "classe = [\"Backpack\", \"Chair\", \"Desk\", \"Human\", \"Wall\"]\n",
    "\n",
    "mean_cf = np.mean([i for i in conf_mats],0)\n",
    "mean_cf\n",
    "\n",
    "df_cm = pd.DataFrame(mean_cf.astype(int), index = [i for i in classe],columns = [i for i in classe])\n",
    "plt.figure(figsize = (6,5))\n",
    "\n",
    "\n",
    "ax = sn.heatmap(df_cm, annot=True,fmt='g',cmap='Blues')\n",
    "\n",
    "ax.set_xlabel(xlabel='Actual class', fontsize=14, fontdict=dict(weight='bold'))\n",
    "ax.set_ylabel(ylabel='Predicted class', fontsize=14, fontdict=dict(weight='bold'))"
   ]
  },
  {
   "cell_type": "markdown",
   "metadata": {},
   "source": [
    "# Deep Learning Subject Dependent"
   ]
  },
  {
   "cell_type": "code",
   "execution_count": 52,
   "metadata": {
    "ExecuteTime": {
     "end_time": "2024-03-01T09:23:39.158867Z",
     "start_time": "2024-03-01T09:23:25.701598Z"
    }
   },
   "outputs": [
    {
     "name": "stderr",
     "output_type": "stream",
     "text": [
      "2024-03-01 11:23:27.516926: I tensorflow/core/util/port.cc:110] oneDNN custom operations are on. You may see slightly different numerical results due to floating-point round-off errors from different computation orders. To turn them off, set the environment variable `TF_ENABLE_ONEDNN_OPTS=0`.\n",
      "2024-03-01 11:23:29.321571: I tensorflow/core/platform/cpu_feature_guard.cc:182] This TensorFlow binary is optimized to use available CPU instructions in performance-critical operations.\n",
      "To enable the following instructions: AVX2 AVX_VNNI FMA, in other operations, rebuild TensorFlow with the appropriate compiler flags.\n",
      "2024-03-01 11:23:34.602816: W tensorflow/compiler/tf2tensorrt/utils/py_utils.cc:38] TF-TRT Warning: Could not find TensorRT\n"
     ]
    }
   ],
   "source": [
    "import tensorflow as tf\n",
    "from tensorflow.keras.models import Sequential\n",
    "from tensorflow.keras.layers import MaxPooling2D, Flatten, Dense, Dropout, GlobalMaxPooling2D\n",
    "from tensorflow.keras.utils import to_categorical\n",
    "from tensorflow.keras.optimizers import Adam\n",
    "from tensorflow.keras.callbacks import EarlyStopping, ModelCheckpoint"
   ]
  },
  {
   "cell_type": "code",
   "execution_count": 55,
   "metadata": {
    "ExecuteTime": {
     "end_time": "2024-03-01T09:50:12.592541Z",
     "start_time": "2024-03-01T09:25:03.954562Z"
    }
   },
   "outputs": [
    {
     "name": "stdout",
     "output_type": "stream",
     "text": [
      "235/235 [==============================] - 0s 671us/step\n",
      "0.7277514197776224\n",
      "235/235 [==============================] - 0s 806us/step\n",
      "0.7359356659758477\n",
      "215/215 [==============================] - 0s 797us/step\n",
      "0.729927979157157\n",
      "227/227 [==============================] - 0s 806us/step\n",
      "0.7144969804800042\n",
      "238/238 [==============================] - 0s 798us/step\n",
      "0.7302446567009747\n",
      "220/220 [==============================] - 0s 389us/step\n",
      "0.7071528473183399\n",
      "231/231 [==============================] - 0s 867us/step\n",
      "0.7271398604543553\n",
      "236/236 [==============================] - 0s 542us/step\n",
      "0.7284723342776875\n",
      "226/226 [==============================] - 0s 928us/step\n",
      "0.7267640919465695\n",
      "228/228 [==============================] - 0s 762us/step\n",
      "0.727039511167671\n",
      "\n",
      "0.7653225554554408\n",
      "0.725492534725623\n"
     ]
    }
   ],
   "source": [
    "test_acc = []\n",
    "conf_mats = []\n",
    "f1s = []\n",
    "\n",
    "for i, (train_index, test_index) in enumerate(kf.split(features['csv'].unique())):\n",
    "    csv_train = features['csv'].unique()[train_index]\n",
    "    csv_test = features['csv'].unique()[test_index]\n",
    "\n",
    "    X_train = features[feats][(features['csv'].isin(csv_train))].to_numpy()\n",
    "    y_train = features['object'][(features['csv'].isin(csv_train))].to_numpy()\n",
    "\n",
    "    X_test = features[feats][(features['csv'].isin(csv_test))].to_numpy()\n",
    "    y_test = features['object'][(features['csv'].isin(csv_test))].to_numpy()\n",
    "    \n",
    "    X_train, X_test = z_score(X_train, X_test)\n",
    "        \n",
    "    Y_train = to_categorical(y_train, num_classes=5)\n",
    "    Y_test = to_categorical(y_test, num_classes=5)\n",
    "\n",
    "    model = Sequential()\n",
    "    model.add(Dense(256, activation='relu'))\n",
    "    model.add(Dropout(0.1))\n",
    "    model.add(Dense(256, activation='relu'))\n",
    "    model.add(Dropout(0.1))\n",
    "    model.add(Dense(128, activation='relu'))\n",
    "    model.add(Dropout(0.1))\n",
    "    model.add(Dense(128, activation='relu'))\n",
    "    model.add(Dropout(0.1))\n",
    "    model.add(Dense(5, activation='softmax'))\n",
    "\n",
    "    early_stopping = EarlyStopping(monitor='val_accuracy',patience=50, mode='max')\n",
    "\n",
    "    model.build(input_shape=X_train.shape)\n",
    "    model.compile(loss='categorical_crossentropy', optimizer='Adam', metrics=['accuracy'])\n",
    "\n",
    "    checkpoint = ModelCheckpoint('best_weights_dense_'+str(i)+'.hdf5', \n",
    "                                 monitor='val_accuracy', verbose=0, save_best_only=True, mode='max')\n",
    "\n",
    "#     model.summary()\n",
    "    model.fit(X_train, Y_train, batch_size=128, epochs=1000, \n",
    "              validation_data=(X_test, Y_test), verbose=0, callbacks=[early_stopping, checkpoint])\n",
    "    model.load_weights('best_weights_dense_'+str(i)+'.hdf5')\n",
    "    model.compile(loss='categorical_crossentropy', optimizer='Adam', metrics=['accuracy'])\n",
    "\n",
    "    \n",
    "    preds = np.argmax(model.predict(X_test),1)\n",
    "    test_acc.append(np.mean(preds==y_test))\n",
    "    print(f1_score(y_test, preds, average='macro'))\n",
    "\n",
    "    conf_mats.append(confusion_matrix(y_test,preds, labels=[0,1,2,3,4]))\n",
    "    f1s.append(f1_score(y_test, preds, average='macro'))\n",
    "print()\n",
    "print(np.mean(test_acc))\n",
    "print(np.mean(f1s))\n",
    "\n"
   ]
  },
  {
   "cell_type": "code",
   "execution_count": 56,
   "metadata": {
    "ExecuteTime": {
     "end_time": "2024-03-01T09:50:12.752559Z",
     "start_time": "2024-03-01T09:50:12.593434Z"
    }
   },
   "outputs": [
    {
     "data": {
      "image/png": "[encoded data removed]",
      "text/plain": [
       "<Figure size 432x360 with 2 Axes>"
      ]
     },
     "metadata": {
      "needs_background": "light"
     },
     "output_type": "display_data"
    }
   ],
   "source": [
    "import seaborn as sn\n",
    "import pandas as pd\n",
    "import matplotlib as mpl\n",
    "import matplotlib.pyplot as plt\n",
    "mpl.rcParams['figure.dpi'] = 300\n",
    "%matplotlib inline\n",
    "classe = [\"Backpack\", \"Chair\", \"Desk\", \"Human\", \"Wall\"]\n",
    "\n",
    "mean_cf = np.mean([i for i in conf_mats],0)\n",
    "mean_cf\n",
    "\n",
    "df_cm = pd.DataFrame(mean_cf.astype(int), index = [i for i in classe],columns = [i for i in classe])\n",
    "plt.figure(figsize = (6,5))\n",
    "\n",
    "\n",
    "ax = sn.heatmap(df_cm, annot=True,fmt='g',cmap='Blues')\n",
    "\n",
    "ax.set_xlabel(xlabel='Actual class', fontsize=14, fontdict=dict(weight='bold'))\n",
    "ax.set_ylabel(ylabel='Predicted class', fontsize=14, fontdict=dict(weight='bold'))\n",
    "\n",
    "plt.savefig('conf_mat_1.png', dpi=300)"
   ]
  },
  {
   "cell_type": "markdown",
   "metadata": {},
   "source": [
    "# Deep Learning Subject Independent"
   ]
  },
  {
   "cell_type": "code",
   "execution_count": 58,
   "metadata": {
    "ExecuteTime": {
     "end_time": "2024-03-01T10:19:07.884247Z",
     "start_time": "2024-03-01T09:51:06.660362Z"
    }
   },
   "outputs": [
    {
     "name": "stdout",
     "output_type": "stream",
     "text": [
      "478/478 [==============================] - 0s 780us/step\n",
      "0.7347608742261312\n",
      "220/220 [==============================] - 0s 695us/step\n",
      "0.590037667653759\n",
      "242/242 [==============================] - 0s 711us/step\n",
      "0.6891943579976594\n",
      "128/128 [==============================] - 0s 749us/step\n",
      "0.49072122371206106\n",
      "170/170 [==============================] - 0s 887us/step\n",
      "0.5935678709265457\n",
      "182/182 [==============================] - 0s 837us/step\n",
      "0.5927297695073215\n",
      "153/153 [==============================] - 0s 797us/step\n",
      "0.6743650840730993\n",
      "193/193 [==============================] - 0s 863us/step\n",
      "0.6571903620505575\n",
      "255/255 [==============================] - 0s 907us/step\n",
      "0.646189574389062\n",
      "271/271 [==============================] - 0s 700us/step\n",
      "0.8190291616481643\n",
      "\n",
      "0.7044284869554543\n",
      "0.6487785946184361\n"
     ]
    }
   ],
   "source": [
    "test_acc = []\n",
    "conf_mats = []\n",
    "f1s = []\n",
    "\n",
    "for s in range(1,11):\n",
    "    X_train = features[feats][(features['subject']!=s)].to_numpy()\n",
    "    y_train = features['object'][(features['subject']!=s)].to_numpy()\n",
    "\n",
    "    X_test = features[feats][(features['subject']==s)].to_numpy()\n",
    "    y_test = features['object'][(features['subject']==s )].to_numpy()\n",
    "    \n",
    "    X_train, X_test = z_score(X_train, X_test)\n",
    "    \n",
    "    Y_train = to_categorical(y_train, num_classes=5)\n",
    "    Y_test = to_categorical(y_test, num_classes=5)\n",
    "\n",
    "    model = Sequential()\n",
    "    model.add(Dense(256, activation='relu'))\n",
    "    model.add(Dropout(0.1))\n",
    "    model.add(Dense(256, activation='relu'))\n",
    "    model.add(Dropout(0.1))\n",
    "    model.add(Dense(128, activation='relu'))\n",
    "    model.add(Dropout(0.1))\n",
    "    model.add(Dense(128, activation='relu'))\n",
    "    model.add(Dropout(0.1))\n",
    "    model.add(Dense(5, activation='softmax'))\n",
    "\n",
    "    early_stopping = EarlyStopping(monitor='val_accuracy',patience=50, mode='max')\n",
    "\n",
    "    model.build(input_shape=X_train.shape)\n",
    "    model.compile(loss='categorical_crossentropy', optimizer='Adam', metrics=['accuracy'])\n",
    "\n",
    "    checkpoint = ModelCheckpoint('best_weights_dense_losos_'+str(s)+'.hdf5', \n",
    "                                 monitor='val_accuracy', verbose=0, save_best_only=True, mode='max')\n",
    "\n",
    "    #model.summary()\n",
    "    model.fit(X_train, Y_train, batch_size=128, epochs=1000, verbose=0,\n",
    "              validation_data=(X_test, Y_test), callbacks=[early_stopping, checkpoint])\n",
    "    model.load_weights('best_weights_dense_losos_'+str(s)+'.hdf5')\n",
    "    model.compile(loss='categorical_crossentropy', optimizer='Adam', metrics=['accuracy'])\n",
    "\n",
    "    \n",
    "    preds = np.argmax(model.predict(X_test),1)\n",
    "    test_acc.append(np.mean(preds==y_test))\n",
    "    print(f1_score(y_test, preds, average='macro'))\n",
    "\n",
    "    conf_mats.append(confusion_matrix(y_test,preds, labels=[0,1,2,3,4]))\n",
    "    f1s.append(f1_score(y_test, preds, average='macro'))\n",
    "print()\n",
    "print(np.mean(test_acc))\n",
    "print(np.mean(f1s))\n",
    "\n"
   ]
  },
  {
   "cell_type": "code",
   "execution_count": 59,
   "metadata": {
    "ExecuteTime": {
     "end_time": "2024-03-01T10:38:27.520074Z",
     "start_time": "2024-03-01T10:38:27.351494Z"
    }
   },
   "outputs": [
    {
     "data": {
      "image/png": "[encoded data removed]",
      "text/plain": [
       "<Figure size 432x360 with 2 Axes>"
      ]
     },
     "metadata": {
      "needs_background": "light"
     },
     "output_type": "display_data"
    }
   ],
   "source": [
    "classe = [\"Backpack\", \"Chair\", \"Desk\", \"Human\", \"Wall\"]\n",
    "\n",
    "mean_cf = np.mean([i for i in conf_mats],0)\n",
    "mean_cf\n",
    "\n",
    "df_cm = pd.DataFrame(mean_cf.astype(int), index = [i for i in classe],columns = [i for i in classe])\n",
    "plt.figure(figsize = (6,5))\n",
    "\n",
    "\n",
    "ax = sn.heatmap(df_cm, annot=True,fmt='g',cmap='Blues')\n",
    "\n",
    "ax.set_xlabel(xlabel='Actual class', fontsize=14, fontdict=dict(weight='bold'))\n",
    "ax.set_ylabel(ylabel='Predicted class', fontsize=14, fontdict=dict(weight='bold'))\n",
    "\n",
    "plt.savefig('conf_mat_2.png', dpi=300)"
   ]
  },
  {
   "cell_type": "code",
   "execution_count": null,
   "metadata": {},
   "outputs": [],
   "source": []
  }
 ],
 "metadata": {
  "kernelspec": {
   "display_name": "Python 3 (ipykernel)",
   "language": "python",
   "name": "python3"
  },
  "language_info": {
   "codemirror_mode": {
    "name": "ipython",
    "version": 3
   },
   "file_extension": ".py",
   "mimetype": "text/x-python",
   "name": "python",
   "nbconvert_exporter": "python",
   "pygments_lexer": "ipython3",
   "version": "3.8.10"
  }
 },
 "nbformat": 4,
 "nbformat_minor": 2
}
